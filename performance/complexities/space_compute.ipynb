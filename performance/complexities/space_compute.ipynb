{
 "cells": [
  {
   "cell_type": "markdown",
   "metadata": {},
   "source": [
    "# **SPACE COMPLEXITY COMPUTATION**"
   ]
  },
  {
   "cell_type": "markdown",
   "metadata": {},
   "source": [
    "Import needed packages"
   ]
  },
  {
   "cell_type": "code",
   "execution_count": 2,
   "metadata": {},
   "outputs": [],
   "source": [
    "from memory_profiler import memory_usage\n",
    "\n",
    "import os\n",
    "import pandas as pd\n",
    "import preprocessing as pre\n",
    "import time"
   ]
  },
  {
   "cell_type": "markdown",
   "metadata": {},
   "source": [
    "Constants for the notebook file"
   ]
  },
  {
   "cell_type": "code",
   "execution_count": 2,
   "metadata": {},
   "outputs": [],
   "source": [
    "DATASET_PATH = \"dataset/additional/process-hr-admin.csv\"\n",
    "DIR_PATH = \"space/existing\"\n",
    "RESULT_PATH = \"existing-result.csv\""
   ]
  },
  {
   "cell_type": "markdown",
   "metadata": {},
   "source": [
    "Acquire csv for test case"
   ]
  },
  {
   "cell_type": "code",
   "execution_count": 3,
   "metadata": {},
   "outputs": [
    {
     "data": {
      "text/plain": [
       "500"
      ]
     },
     "execution_count": 3,
     "metadata": {},
     "output_type": "execute_result"
    }
   ],
   "source": [
    "df = pd.read_csv(DATASET_PATH)\n",
    "\n",
    "len(df)"
   ]
  },
  {
   "cell_type": "markdown",
   "metadata": {},
   "source": [
    "The dataset is described as follows: for every 100 records for a specific position, the first 50 records contain only common features and the second 50 contains additional features. To clean the dataset, we need to take every second half for every 100 records."
   ]
  },
  {
   "cell_type": "code",
   "execution_count": 4,
   "metadata": {},
   "outputs": [
    {
     "data": {
      "text/html": [
       "<div>\n",
       "<style scoped>\n",
       "    .dataframe tbody tr th:only-of-type {\n",
       "        vertical-align: middle;\n",
       "    }\n",
       "\n",
       "    .dataframe tbody tr th {\n",
       "        vertical-align: top;\n",
       "    }\n",
       "\n",
       "    .dataframe thead th {\n",
       "        text-align: right;\n",
       "    }\n",
       "</style>\n",
       "<table border=\"1\" class=\"dataframe\">\n",
       "  <thead>\n",
       "    <tr style=\"text-align: right;\">\n",
       "      <th></th>\n",
       "      <th>age</th>\n",
       "      <th>sex</th>\n",
       "      <th>experience</th>\n",
       "      <th>experience_role</th>\n",
       "      <th>experience_years</th>\n",
       "      <th>hard_skills</th>\n",
       "      <th>soft_skills</th>\n",
       "      <th>certifications</th>\n",
       "      <th>degree</th>\n",
       "      <th>training</th>\n",
       "      <th>job_field</th>\n",
       "      <th>job_position</th>\n",
       "    </tr>\n",
       "  </thead>\n",
       "  <tbody>\n",
       "    <tr>\n",
       "      <th>50</th>\n",
       "      <td>30.0</td>\n",
       "      <td>female</td>\n",
       "      <td>recruited candidates for various administrativ...</td>\n",
       "      <td>admin recruiter</td>\n",
       "      <td>5</td>\n",
       "      <td>candidate sourcing, resume screening, intervie...</td>\n",
       "      <td>communication, organizational skills</td>\n",
       "      <td>False</td>\n",
       "      <td>human resource</td>\n",
       "      <td>True</td>\n",
       "      <td>hr &amp; admin</td>\n",
       "      <td>recruiter</td>\n",
       "    </tr>\n",
       "    <tr>\n",
       "      <th>51</th>\n",
       "      <td>32.0</td>\n",
       "      <td>NaN</td>\n",
       "      <td>managed recruitment processes for executive po...</td>\n",
       "      <td>management recruiter</td>\n",
       "      <td>8</td>\n",
       "      <td>executive search, talent mapping, negotiation</td>\n",
       "      <td>leadership, communication</td>\n",
       "      <td>True</td>\n",
       "      <td>business administration</td>\n",
       "      <td>True</td>\n",
       "      <td>hr &amp; admin</td>\n",
       "      <td>recruiter</td>\n",
       "    </tr>\n",
       "    <tr>\n",
       "      <th>52</th>\n",
       "      <td>28.0</td>\n",
       "      <td>female</td>\n",
       "      <td>coordinated recruitment activities for HR depa...</td>\n",
       "      <td>hr officer recruiter</td>\n",
       "      <td>6</td>\n",
       "      <td>HR processes, interviewing, employee onboarding</td>\n",
       "      <td>organizational skills, interpersonal skills</td>\n",
       "      <td>True</td>\n",
       "      <td>human resource</td>\n",
       "      <td>True</td>\n",
       "      <td>hr &amp; admin</td>\n",
       "      <td>recruiter</td>\n",
       "    </tr>\n",
       "    <tr>\n",
       "      <th>53</th>\n",
       "      <td>NaN</td>\n",
       "      <td>NaN</td>\n",
       "      <td>sourced and screened candidates for entry-leve...</td>\n",
       "      <td>junior recruiter</td>\n",
       "      <td>4</td>\n",
       "      <td>candidate sourcing, screening, recruitment tools</td>\n",
       "      <td>communication, adaptability</td>\n",
       "      <td>False</td>\n",
       "      <td>business administration</td>\n",
       "      <td>True</td>\n",
       "      <td>hr &amp; admin</td>\n",
       "      <td>recruiter</td>\n",
       "    </tr>\n",
       "    <tr>\n",
       "      <th>54</th>\n",
       "      <td>NaN</td>\n",
       "      <td>female</td>\n",
       "      <td>managed recruitment operations for a tech company</td>\n",
       "      <td>recruiter</td>\n",
       "      <td>7</td>\n",
       "      <td>technical recruiting, applicant tracking systems</td>\n",
       "      <td>problem solving, teamwork</td>\n",
       "      <td>True</td>\n",
       "      <td>computer science</td>\n",
       "      <td>True</td>\n",
       "      <td>hr &amp; admin</td>\n",
       "      <td>recruiter</td>\n",
       "    </tr>\n",
       "    <tr>\n",
       "      <th>...</th>\n",
       "      <td>...</td>\n",
       "      <td>...</td>\n",
       "      <td>...</td>\n",
       "      <td>...</td>\n",
       "      <td>...</td>\n",
       "      <td>...</td>\n",
       "      <td>...</td>\n",
       "      <td>...</td>\n",
       "      <td>...</td>\n",
       "      <td>...</td>\n",
       "      <td>...</td>\n",
       "      <td>...</td>\n",
       "    </tr>\n",
       "    <tr>\n",
       "      <th>395</th>\n",
       "      <td>NaN</td>\n",
       "      <td>male</td>\n",
       "      <td>coordinated operations and ensured efficient w...</td>\n",
       "      <td>operations coordinator</td>\n",
       "      <td>13</td>\n",
       "      <td>operations coordination, workflow efficiency, ...</td>\n",
       "      <td>adaptability, problem solving</td>\n",
       "      <td>True</td>\n",
       "      <td>operations management</td>\n",
       "      <td>True</td>\n",
       "      <td>hr &amp; admin</td>\n",
       "      <td>project coordinator</td>\n",
       "    </tr>\n",
       "    <tr>\n",
       "      <th>396</th>\n",
       "      <td>43.0</td>\n",
       "      <td>female</td>\n",
       "      <td>managed advertising campaigns and ensured bran...</td>\n",
       "      <td>advertising coordinator</td>\n",
       "      <td>14</td>\n",
       "      <td>advertising campaign management, brand visibil...</td>\n",
       "      <td>communication, creativity</td>\n",
       "      <td>True</td>\n",
       "      <td>advertising</td>\n",
       "      <td>True</td>\n",
       "      <td>hr &amp; admin</td>\n",
       "      <td>project coordinator</td>\n",
       "    </tr>\n",
       "    <tr>\n",
       "      <th>397</th>\n",
       "      <td>46.0</td>\n",
       "      <td>NaN</td>\n",
       "      <td>executed marketing strategies and analyzed cam...</td>\n",
       "      <td>marketing coordinator</td>\n",
       "      <td>15</td>\n",
       "      <td>marketing strategy execution, campaign analysi...</td>\n",
       "      <td>communication, analytical thinking</td>\n",
       "      <td>True</td>\n",
       "      <td>marketing</td>\n",
       "      <td>True</td>\n",
       "      <td>hr &amp; admin</td>\n",
       "      <td>project coordinator</td>\n",
       "    </tr>\n",
       "    <tr>\n",
       "      <th>398</th>\n",
       "      <td>NaN</td>\n",
       "      <td>female</td>\n",
       "      <td>coordinated project schedules and ensured succ...</td>\n",
       "      <td>project coordinator</td>\n",
       "      <td>12</td>\n",
       "      <td>project coordination, scheduling, outcome asse...</td>\n",
       "      <td>organizational skills, attention to detail</td>\n",
       "      <td>False</td>\n",
       "      <td>project management</td>\n",
       "      <td>True</td>\n",
       "      <td>hr &amp; admin</td>\n",
       "      <td>project coordinator</td>\n",
       "    </tr>\n",
       "    <tr>\n",
       "      <th>399</th>\n",
       "      <td>NaN</td>\n",
       "      <td>male</td>\n",
       "      <td>managed administrative tasks and ensured smoot...</td>\n",
       "      <td>administrative coordinator</td>\n",
       "      <td>13</td>\n",
       "      <td>administrative support, office operations, dat...</td>\n",
       "      <td>communication, attention to detail</td>\n",
       "      <td>True</td>\n",
       "      <td>business administration</td>\n",
       "      <td>True</td>\n",
       "      <td>hr &amp; admin</td>\n",
       "      <td>project coordinator</td>\n",
       "    </tr>\n",
       "  </tbody>\n",
       "</table>\n",
       "<p>200 rows × 12 columns</p>\n",
       "</div>"
      ],
      "text/plain": [
       "      age     sex                                         experience  \\\n",
       "50   30.0  female  recruited candidates for various administrativ...   \n",
       "51   32.0     NaN  managed recruitment processes for executive po...   \n",
       "52   28.0  female  coordinated recruitment activities for HR depa...   \n",
       "53    NaN     NaN  sourced and screened candidates for entry-leve...   \n",
       "54    NaN  female  managed recruitment operations for a tech company   \n",
       "..    ...     ...                                                ...   \n",
       "395   NaN    male  coordinated operations and ensured efficient w...   \n",
       "396  43.0  female  managed advertising campaigns and ensured bran...   \n",
       "397  46.0     NaN  executed marketing strategies and analyzed cam...   \n",
       "398   NaN  female  coordinated project schedules and ensured succ...   \n",
       "399   NaN    male  managed administrative tasks and ensured smoot...   \n",
       "\n",
       "                experience_role  experience_years  \\\n",
       "50              admin recruiter                 5   \n",
       "51         management recruiter                 8   \n",
       "52         hr officer recruiter                 6   \n",
       "53             junior recruiter                 4   \n",
       "54                    recruiter                 7   \n",
       "..                          ...               ...   \n",
       "395      operations coordinator                13   \n",
       "396     advertising coordinator                14   \n",
       "397       marketing coordinator                15   \n",
       "398         project coordinator                12   \n",
       "399  administrative coordinator                13   \n",
       "\n",
       "                                           hard_skills  \\\n",
       "50   candidate sourcing, resume screening, intervie...   \n",
       "51       executive search, talent mapping, negotiation   \n",
       "52     HR processes, interviewing, employee onboarding   \n",
       "53    candidate sourcing, screening, recruitment tools   \n",
       "54    technical recruiting, applicant tracking systems   \n",
       "..                                                 ...   \n",
       "395  operations coordination, workflow efficiency, ...   \n",
       "396  advertising campaign management, brand visibil...   \n",
       "397  marketing strategy execution, campaign analysi...   \n",
       "398  project coordination, scheduling, outcome asse...   \n",
       "399  administrative support, office operations, dat...   \n",
       "\n",
       "                                     soft_skills certifications  \\\n",
       "50          communication, organizational skills          False   \n",
       "51                     leadership, communication           True   \n",
       "52   organizational skills, interpersonal skills           True   \n",
       "53                   communication, adaptability          False   \n",
       "54                     problem solving, teamwork           True   \n",
       "..                                           ...            ...   \n",
       "395                adaptability, problem solving           True   \n",
       "396                    communication, creativity           True   \n",
       "397           communication, analytical thinking           True   \n",
       "398   organizational skills, attention to detail          False   \n",
       "399           communication, attention to detail           True   \n",
       "\n",
       "                      degree training   job_field         job_position  \n",
       "50            human resource     True  hr & admin            recruiter  \n",
       "51   business administration     True  hr & admin            recruiter  \n",
       "52            human resource     True  hr & admin            recruiter  \n",
       "53   business administration     True  hr & admin            recruiter  \n",
       "54          computer science     True  hr & admin            recruiter  \n",
       "..                       ...      ...         ...                  ...  \n",
       "395    operations management     True  hr & admin  project coordinator  \n",
       "396              advertising     True  hr & admin  project coordinator  \n",
       "397                marketing     True  hr & admin  project coordinator  \n",
       "398       project management     True  hr & admin  project coordinator  \n",
       "399  business administration     True  hr & admin  project coordinator  \n",
       "\n",
       "[200 rows x 12 columns]"
      ]
     },
     "execution_count": 4,
     "metadata": {},
     "output_type": "execute_result"
    }
   ],
   "source": [
    "index = 50\n",
    "end = 50\n",
    "\n",
    "space_df = pd.DataFrame()\n",
    "\n",
    "while index < len(df):\n",
    "    space_df = pd.concat([space_df, df[index: index + end]])\n",
    "    index += end * 2\n",
    "\n",
    "space_df = space_df[:200]\n",
    "# space_df = space_df.drop([\"experience\", \"hard_skills\", \"soft_skills\", \"certifications\", \"training\", \"job_position\"], axis=1)\n",
    "\n",
    "space_df"
   ]
  },
  {
   "cell_type": "markdown",
   "metadata": {},
   "source": [
    "Commence time complexity measurement!"
   ]
  },
  {
   "cell_type": "code",
   "execution_count": 5,
   "metadata": {},
   "outputs": [
    {
     "name": "stderr",
     "output_type": "stream",
     "text": [
      "Preprocessing: 100%|██████████| 20/20 [00:00<00:00, 12278.41record/s]"
     ]
    },
    {
     "name": "stdout",
     "output_type": "stream",
     "text": [
      "Task completed!\n"
     ]
    },
    {
     "name": "stderr",
     "output_type": "stream",
     "text": [
      "\n",
      "Preprocessing: 100%|██████████| 20/20 [00:00<00:00, 12390.85record/s]"
     ]
    },
    {
     "name": "stdout",
     "output_type": "stream",
     "text": [
      "Task completed!\n"
     ]
    },
    {
     "name": "stderr",
     "output_type": "stream",
     "text": [
      "\n",
      "Preprocessing: 100%|██████████| 20/20 [00:00<00:00, 12339.82record/s]"
     ]
    },
    {
     "name": "stdout",
     "output_type": "stream",
     "text": [
      "Task completed!\n"
     ]
    },
    {
     "name": "stderr",
     "output_type": "stream",
     "text": [
      "\n",
      "Preprocessing: 100%|██████████| 40/40 [00:00<00:00, 12966.39record/s]\n"
     ]
    },
    {
     "name": "stdout",
     "output_type": "stream",
     "text": [
      "Task completed!\n"
     ]
    },
    {
     "name": "stderr",
     "output_type": "stream",
     "text": [
      "Preprocessing: 100%|██████████| 40/40 [00:00<00:00, 12828.58record/s]"
     ]
    },
    {
     "name": "stdout",
     "output_type": "stream",
     "text": [
      "Task completed!\n"
     ]
    },
    {
     "name": "stderr",
     "output_type": "stream",
     "text": [
      "\n",
      "Preprocessing: 100%|██████████| 40/40 [00:00<00:00, 13059.25record/s]"
     ]
    },
    {
     "name": "stdout",
     "output_type": "stream",
     "text": [
      "Task completed!\n"
     ]
    },
    {
     "name": "stderr",
     "output_type": "stream",
     "text": [
      "\n",
      "Preprocessing: 100%|██████████| 60/60 [00:00<00:00, 13870.05record/s]\n"
     ]
    },
    {
     "name": "stdout",
     "output_type": "stream",
     "text": [
      "Task completed!\n"
     ]
    },
    {
     "name": "stderr",
     "output_type": "stream",
     "text": [
      "Preprocessing: 100%|██████████| 60/60 [00:00<00:00, 13498.08record/s]"
     ]
    },
    {
     "name": "stdout",
     "output_type": "stream",
     "text": [
      "Task completed!\n"
     ]
    },
    {
     "name": "stderr",
     "output_type": "stream",
     "text": [
      "\n",
      "Preprocessing: 100%|██████████| 60/60 [00:00<00:00, 13550.41record/s]"
     ]
    },
    {
     "name": "stdout",
     "output_type": "stream",
     "text": [
      "Task completed!\n"
     ]
    },
    {
     "name": "stderr",
     "output_type": "stream",
     "text": [
      "\n",
      "Preprocessing: 100%|██████████| 80/80 [00:00<00:00, 14349.31record/s]\n"
     ]
    },
    {
     "name": "stdout",
     "output_type": "stream",
     "text": [
      "Task completed!\n"
     ]
    },
    {
     "name": "stderr",
     "output_type": "stream",
     "text": [
      "Preprocessing: 100%|██████████| 80/80 [00:00<00:00, 14267.55record/s]"
     ]
    },
    {
     "name": "stdout",
     "output_type": "stream",
     "text": [
      "Task completed!\n"
     ]
    },
    {
     "name": "stderr",
     "output_type": "stream",
     "text": [
      "\n",
      "Preprocessing: 100%|██████████| 80/80 [00:00<00:00, 14521.96record/s]"
     ]
    },
    {
     "name": "stdout",
     "output_type": "stream",
     "text": [
      "Task completed!\n"
     ]
    },
    {
     "name": "stderr",
     "output_type": "stream",
     "text": [
      "\n",
      "Preprocessing: 100%|██████████| 100/100 [00:00<00:00, 14626.53record/s]\n"
     ]
    },
    {
     "name": "stdout",
     "output_type": "stream",
     "text": [
      "Task completed!\n"
     ]
    },
    {
     "name": "stderr",
     "output_type": "stream",
     "text": [
      "Preprocessing: 100%|██████████| 100/100 [00:00<00:00, 14640.83record/s]"
     ]
    },
    {
     "name": "stdout",
     "output_type": "stream",
     "text": [
      "Task completed!\n"
     ]
    },
    {
     "name": "stderr",
     "output_type": "stream",
     "text": [
      "\n",
      "Preprocessing: 100%|██████████| 100/100 [00:00<00:00, 14146.05record/s]"
     ]
    },
    {
     "name": "stdout",
     "output_type": "stream",
     "text": [
      "Task completed!\n"
     ]
    },
    {
     "name": "stderr",
     "output_type": "stream",
     "text": [
      "\n",
      "Preprocessing: 100%|██████████| 120/120 [00:00<00:00, 14233.26record/s]"
     ]
    },
    {
     "name": "stdout",
     "output_type": "stream",
     "text": [
      "Task completed!\n"
     ]
    },
    {
     "name": "stderr",
     "output_type": "stream",
     "text": [
      "\n",
      "Preprocessing: 100%|██████████| 120/120 [00:00<00:00, 14538.32record/s]"
     ]
    },
    {
     "name": "stdout",
     "output_type": "stream",
     "text": [
      "Task completed!\n"
     ]
    },
    {
     "name": "stderr",
     "output_type": "stream",
     "text": [
      "\n",
      "Preprocessing: 100%|██████████| 120/120 [00:00<00:00, 14593.54record/s]"
     ]
    },
    {
     "name": "stdout",
     "output_type": "stream",
     "text": [
      "Task completed!\n"
     ]
    },
    {
     "name": "stderr",
     "output_type": "stream",
     "text": [
      "\n",
      "Preprocessing: 100%|██████████| 140/140 [00:00<00:00, 14770.91record/s]\n"
     ]
    },
    {
     "name": "stdout",
     "output_type": "stream",
     "text": [
      "Task completed!\n"
     ]
    },
    {
     "name": "stderr",
     "output_type": "stream",
     "text": [
      "Preprocessing: 100%|██████████| 140/140 [00:00<00:00, 14242.12record/s]"
     ]
    },
    {
     "name": "stdout",
     "output_type": "stream",
     "text": [
      "Task completed!\n"
     ]
    },
    {
     "name": "stderr",
     "output_type": "stream",
     "text": [
      "\n",
      "Preprocessing: 100%|██████████| 140/140 [00:00<00:00, 14233.49record/s]"
     ]
    },
    {
     "name": "stdout",
     "output_type": "stream",
     "text": [
      "Task completed!\n"
     ]
    },
    {
     "name": "stderr",
     "output_type": "stream",
     "text": [
      "\n",
      "Preprocessing: 100%|██████████| 160/160 [00:00<00:00, 15187.47record/s]"
     ]
    },
    {
     "name": "stdout",
     "output_type": "stream",
     "text": [
      "Task completed!\n"
     ]
    },
    {
     "name": "stderr",
     "output_type": "stream",
     "text": [
      "\n",
      "Preprocessing: 100%|██████████| 160/160 [00:00<00:00, 15288.85record/s]"
     ]
    },
    {
     "name": "stdout",
     "output_type": "stream",
     "text": [
      "Task completed!\n"
     ]
    },
    {
     "name": "stderr",
     "output_type": "stream",
     "text": [
      "\n",
      "Preprocessing: 100%|██████████| 160/160 [00:00<00:00, 8636.14record/s]"
     ]
    },
    {
     "name": "stdout",
     "output_type": "stream",
     "text": [
      "Task completed!\n"
     ]
    },
    {
     "name": "stderr",
     "output_type": "stream",
     "text": [
      "\n",
      "Preprocessing: 100%|██████████| 180/180 [00:00<00:00, 14861.12record/s]"
     ]
    },
    {
     "name": "stdout",
     "output_type": "stream",
     "text": [
      "Task completed!\n"
     ]
    },
    {
     "name": "stderr",
     "output_type": "stream",
     "text": [
      "\n",
      "Preprocessing: 100%|██████████| 180/180 [00:00<00:00, 14505.63record/s]"
     ]
    },
    {
     "name": "stdout",
     "output_type": "stream",
     "text": [
      "Task completed!\n"
     ]
    },
    {
     "name": "stderr",
     "output_type": "stream",
     "text": [
      "\n",
      "Preprocessing: 100%|██████████| 180/180 [00:00<00:00, 14131.22record/s]"
     ]
    },
    {
     "name": "stdout",
     "output_type": "stream",
     "text": [
      "Task completed!\n"
     ]
    },
    {
     "name": "stderr",
     "output_type": "stream",
     "text": [
      "\n",
      "Preprocessing: 100%|██████████| 200/200 [00:00<00:00, 14159.66record/s]"
     ]
    },
    {
     "name": "stdout",
     "output_type": "stream",
     "text": [
      "Task completed!\n"
     ]
    },
    {
     "name": "stderr",
     "output_type": "stream",
     "text": [
      "\n",
      "Preprocessing: 100%|██████████| 200/200 [00:00<00:00, 14033.40record/s]"
     ]
    },
    {
     "name": "stdout",
     "output_type": "stream",
     "text": [
      "Task completed!\n"
     ]
    },
    {
     "name": "stderr",
     "output_type": "stream",
     "text": [
      "\n",
      "Preprocessing: 100%|██████████| 200/200 [00:00<00:00, 13938.04record/s]"
     ]
    },
    {
     "name": "stdout",
     "output_type": "stream",
     "text": [
      "Task completed!\n"
     ]
    },
    {
     "name": "stderr",
     "output_type": "stream",
     "text": [
      "\n"
     ]
    }
   ],
   "source": [
    "metrics_dict = {\n",
    "    \"Input size\": [],\n",
    "    \"Space\": [],\n",
    "    \"Time\": []\n",
    "}\n",
    "\n",
    "count = 20\n",
    "while count <= 200:\n",
    "    # get input to be preprocessed from the time_df\n",
    "    input_df = space_df[:count]\n",
    "\n",
    "    if not os.path.isdir(DIR_PATH):\n",
    "        os.mkdir(DIR_PATH)\n",
    "    \n",
    "    path = f\"{DIR_PATH}/result-{count}.csv\"\n",
    "    input_df.to_csv(path)\n",
    "\n",
    "    # record time\n",
    "    start = time.time()\n",
    "\n",
    "    # document memory usage\n",
    "    mem_usage = memory_usage((pre.prepare_features, (path, ), {\"field\": \"hr & admin\", \"is_common\": True}))\n",
    "    last_usage = mem_usage[-1]\n",
    "\n",
    "    # record time\n",
    "    elapsed = time.time() - start\n",
    "\n",
    "    # record metrics\n",
    "    metrics_dict[\"Time\"].append(elapsed)\n",
    "    metrics_dict[\"Space\"].append(last_usage)\n",
    "    metrics_dict[\"Input size\"].append(count)\n",
    "\n",
    "    count += 20"
   ]
  },
  {
   "cell_type": "code",
   "execution_count": 6,
   "metadata": {},
   "outputs": [
    {
     "name": "stdout",
     "output_type": "stream",
     "text": [
      "Done!\n"
     ]
    }
   ],
   "source": [
    "metrics_df = pd.DataFrame(metrics_dict)\n",
    "metrics_df = metrics_df.set_index(\"Input size\")\n",
    "\n",
    "metrics_df.to_csv(f\"{DIR_PATH}/{RESULT_PATH}\")\n",
    "print(\"Done!\")"
   ]
  },
  {
   "cell_type": "code",
   "execution_count": 3,
   "metadata": {},
   "outputs": [
    {
     "data": {
      "text/html": [
       "<div>\n",
       "<style scoped>\n",
       "    .dataframe tbody tr th:only-of-type {\n",
       "        vertical-align: middle;\n",
       "    }\n",
       "\n",
       "    .dataframe tbody tr th {\n",
       "        vertical-align: top;\n",
       "    }\n",
       "\n",
       "    .dataframe thead th {\n",
       "        text-align: right;\n",
       "    }\n",
       "</style>\n",
       "<table border=\"1\" class=\"dataframe\">\n",
       "  <thead>\n",
       "    <tr style=\"text-align: right;\">\n",
       "      <th></th>\n",
       "      <th>age</th>\n",
       "      <th>sex</th>\n",
       "      <th>experience_role</th>\n",
       "      <th>experience_years</th>\n",
       "      <th>degree</th>\n",
       "      <th>job_field</th>\n",
       "    </tr>\n",
       "  </thead>\n",
       "  <tbody>\n",
       "    <tr>\n",
       "      <th>0</th>\n",
       "      <td>30.0</td>\n",
       "      <td>female</td>\n",
       "      <td>admin recruiter</td>\n",
       "      <td>5</td>\n",
       "      <td>human resource</td>\n",
       "      <td>hr &amp; admin</td>\n",
       "    </tr>\n",
       "    <tr>\n",
       "      <th>1</th>\n",
       "      <td>32.0</td>\n",
       "      <td>NaN</td>\n",
       "      <td>management recruiter</td>\n",
       "      <td>8</td>\n",
       "      <td>business administration</td>\n",
       "      <td>hr &amp; admin</td>\n",
       "    </tr>\n",
       "    <tr>\n",
       "      <th>2</th>\n",
       "      <td>28.0</td>\n",
       "      <td>female</td>\n",
       "      <td>hr officer recruiter</td>\n",
       "      <td>6</td>\n",
       "      <td>human resource</td>\n",
       "      <td>hr &amp; admin</td>\n",
       "    </tr>\n",
       "    <tr>\n",
       "      <th>3</th>\n",
       "      <td>NaN</td>\n",
       "      <td>NaN</td>\n",
       "      <td>junior recruiter</td>\n",
       "      <td>4</td>\n",
       "      <td>business administration</td>\n",
       "      <td>hr &amp; admin</td>\n",
       "    </tr>\n",
       "    <tr>\n",
       "      <th>4</th>\n",
       "      <td>NaN</td>\n",
       "      <td>female</td>\n",
       "      <td>recruiter</td>\n",
       "      <td>7</td>\n",
       "      <td>computer science</td>\n",
       "      <td>hr &amp; admin</td>\n",
       "    </tr>\n",
       "    <tr>\n",
       "      <th>...</th>\n",
       "      <td>...</td>\n",
       "      <td>...</td>\n",
       "      <td>...</td>\n",
       "      <td>...</td>\n",
       "      <td>...</td>\n",
       "      <td>...</td>\n",
       "    </tr>\n",
       "    <tr>\n",
       "      <th>195</th>\n",
       "      <td>NaN</td>\n",
       "      <td>male</td>\n",
       "      <td>operations coordinator</td>\n",
       "      <td>13</td>\n",
       "      <td>operations management</td>\n",
       "      <td>hr &amp; admin</td>\n",
       "    </tr>\n",
       "    <tr>\n",
       "      <th>196</th>\n",
       "      <td>43.0</td>\n",
       "      <td>female</td>\n",
       "      <td>advertising coordinator</td>\n",
       "      <td>14</td>\n",
       "      <td>advertising</td>\n",
       "      <td>hr &amp; admin</td>\n",
       "    </tr>\n",
       "    <tr>\n",
       "      <th>197</th>\n",
       "      <td>46.0</td>\n",
       "      <td>NaN</td>\n",
       "      <td>marketing coordinator</td>\n",
       "      <td>15</td>\n",
       "      <td>marketing</td>\n",
       "      <td>hr &amp; admin</td>\n",
       "    </tr>\n",
       "    <tr>\n",
       "      <th>198</th>\n",
       "      <td>NaN</td>\n",
       "      <td>female</td>\n",
       "      <td>project coordinator</td>\n",
       "      <td>12</td>\n",
       "      <td>project management</td>\n",
       "      <td>hr &amp; admin</td>\n",
       "    </tr>\n",
       "    <tr>\n",
       "      <th>199</th>\n",
       "      <td>NaN</td>\n",
       "      <td>male</td>\n",
       "      <td>administrative coordinator</td>\n",
       "      <td>13</td>\n",
       "      <td>business administration</td>\n",
       "      <td>hr &amp; admin</td>\n",
       "    </tr>\n",
       "  </tbody>\n",
       "</table>\n",
       "<p>200 rows × 6 columns</p>\n",
       "</div>"
      ],
      "text/plain": [
       "      age     sex             experience_role  experience_years  \\\n",
       "0    30.0  female             admin recruiter                 5   \n",
       "1    32.0     NaN        management recruiter                 8   \n",
       "2    28.0  female        hr officer recruiter                 6   \n",
       "3     NaN     NaN            junior recruiter                 4   \n",
       "4     NaN  female                   recruiter                 7   \n",
       "..    ...     ...                         ...               ...   \n",
       "195   NaN    male      operations coordinator                13   \n",
       "196  43.0  female     advertising coordinator                14   \n",
       "197  46.0     NaN       marketing coordinator                15   \n",
       "198   NaN  female         project coordinator                12   \n",
       "199   NaN    male  administrative coordinator                13   \n",
       "\n",
       "                      degree   job_field  \n",
       "0             human resource  hr & admin  \n",
       "1    business administration  hr & admin  \n",
       "2             human resource  hr & admin  \n",
       "3    business administration  hr & admin  \n",
       "4           computer science  hr & admin  \n",
       "..                       ...         ...  \n",
       "195    operations management  hr & admin  \n",
       "196              advertising  hr & admin  \n",
       "197                marketing  hr & admin  \n",
       "198       project management  hr & admin  \n",
       "199  business administration  hr & admin  \n",
       "\n",
       "[200 rows x 6 columns]"
      ]
     },
     "execution_count": 3,
     "metadata": {},
     "output_type": "execute_result"
    }
   ],
   "source": [
    "df = pd.read_csv(\"preprocessed_result/result.csv\")\n",
    "df = df.drop([\"experience\", \"hard_skills\", \"soft_skills\", \"certifications\", \"training\"], axis=1)\n",
    "\n",
    "df"
   ]
  },
  {
   "cell_type": "code",
   "execution_count": 4,
   "metadata": {},
   "outputs": [
    {
     "name": "stdout",
     "output_type": "stream",
     "text": [
      "Done!\n"
     ]
    }
   ],
   "source": [
    "step = 20\n",
    "while step <= 200:\n",
    "    input_df = df[:step]\n",
    "    input_df.to_csv(f\"preprocessed_result/result-{step}.csv\")\n",
    "    step += 20\n",
    "\n",
    "print(\"Done!\")"
   ]
  }
 ],
 "metadata": {
  "kernelspec": {
   "display_name": "venv",
   "language": "python",
   "name": "python3"
  },
  "language_info": {
   "codemirror_mode": {
    "name": "ipython",
    "version": 3
   },
   "file_extension": ".py",
   "mimetype": "text/x-python",
   "name": "python",
   "nbconvert_exporter": "python",
   "pygments_lexer": "ipython3",
   "version": "3.11.6"
  }
 },
 "nbformat": 4,
 "nbformat_minor": 2
}
