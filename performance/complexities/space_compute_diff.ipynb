{
 "cells": [
  {
   "cell_type": "markdown",
   "metadata": {},
   "source": [
    "# **SPACE COMPLEXITY T-TEST**"
   ]
  },
  {
   "cell_type": "markdown",
   "metadata": {},
   "source": [
    "Import needed packages"
   ]
  },
  {
   "cell_type": "code",
   "execution_count": 40,
   "metadata": {},
   "outputs": [],
   "source": [
    "import math\n",
    "import os\n",
    "import pandas as pd\n",
    "from scipy import stats"
   ]
  },
  {
   "cell_type": "markdown",
   "metadata": {},
   "source": [
    "Read CSVs of calculated file sizes"
   ]
  },
  {
   "cell_type": "code",
   "execution_count": 41,
   "metadata": {},
   "outputs": [],
   "source": [
    "developed_df = pd.read_csv(\"developed/developed-complexity-result.csv\")\n",
    "existing_df = pd.read_csv(\"existing/existing-complexity-result.csv\")\n",
    "\n",
    "developed_df = developed_df.set_index(\"Input size\")\n",
    "existing_df = existing_df.set_index(\"Input size\")"
   ]
  },
  {
   "cell_type": "markdown",
   "metadata": {},
   "source": [
    "Verify tables"
   ]
  },
  {
   "cell_type": "code",
   "execution_count": 42,
   "metadata": {},
   "outputs": [
    {
     "data": {
      "text/html": [
       "<div>\n",
       "<style scoped>\n",
       "    .dataframe tbody tr th:only-of-type {\n",
       "        vertical-align: middle;\n",
       "    }\n",
       "\n",
       "    .dataframe tbody tr th {\n",
       "        vertical-align: top;\n",
       "    }\n",
       "\n",
       "    .dataframe thead th {\n",
       "        text-align: right;\n",
       "    }\n",
       "</style>\n",
       "<table border=\"1\" class=\"dataframe\">\n",
       "  <thead>\n",
       "    <tr style=\"text-align: right;\">\n",
       "      <th></th>\n",
       "      <th>Space</th>\n",
       "      <th>Time</th>\n",
       "    </tr>\n",
       "    <tr>\n",
       "      <th>Input size</th>\n",
       "      <th></th>\n",
       "      <th></th>\n",
       "    </tr>\n",
       "  </thead>\n",
       "  <tbody>\n",
       "    <tr>\n",
       "      <th>20</th>\n",
       "      <td>999.781250</td>\n",
       "      <td>69.196857</td>\n",
       "    </tr>\n",
       "    <tr>\n",
       "      <th>40</th>\n",
       "      <td>1043.421875</td>\n",
       "      <td>136.102185</td>\n",
       "    </tr>\n",
       "    <tr>\n",
       "      <th>60</th>\n",
       "      <td>1212.656250</td>\n",
       "      <td>203.081744</td>\n",
       "    </tr>\n",
       "    <tr>\n",
       "      <th>80</th>\n",
       "      <td>1119.171875</td>\n",
       "      <td>272.150621</td>\n",
       "    </tr>\n",
       "    <tr>\n",
       "      <th>100</th>\n",
       "      <td>973.187500</td>\n",
       "      <td>358.680250</td>\n",
       "    </tr>\n",
       "    <tr>\n",
       "      <th>120</th>\n",
       "      <td>942.593750</td>\n",
       "      <td>416.420019</td>\n",
       "    </tr>\n",
       "    <tr>\n",
       "      <th>140</th>\n",
       "      <td>976.656250</td>\n",
       "      <td>480.869472</td>\n",
       "    </tr>\n",
       "    <tr>\n",
       "      <th>160</th>\n",
       "      <td>937.843750</td>\n",
       "      <td>548.813015</td>\n",
       "    </tr>\n",
       "    <tr>\n",
       "      <th>180</th>\n",
       "      <td>864.453125</td>\n",
       "      <td>619.767451</td>\n",
       "    </tr>\n",
       "    <tr>\n",
       "      <th>200</th>\n",
       "      <td>975.687500</td>\n",
       "      <td>686.481075</td>\n",
       "    </tr>\n",
       "  </tbody>\n",
       "</table>\n",
       "</div>"
      ],
      "text/plain": [
       "                  Space        Time\n",
       "Input size                         \n",
       "20           999.781250   69.196857\n",
       "40          1043.421875  136.102185\n",
       "60          1212.656250  203.081744\n",
       "80          1119.171875  272.150621\n",
       "100          973.187500  358.680250\n",
       "120          942.593750  416.420019\n",
       "140          976.656250  480.869472\n",
       "160          937.843750  548.813015\n",
       "180          864.453125  619.767451\n",
       "200          975.687500  686.481075"
      ]
     },
     "execution_count": 42,
     "metadata": {},
     "output_type": "execute_result"
    }
   ],
   "source": [
    "developed_df"
   ]
  },
  {
   "cell_type": "code",
   "execution_count": 43,
   "metadata": {},
   "outputs": [
    {
     "data": {
      "text/html": [
       "<div>\n",
       "<style scoped>\n",
       "    .dataframe tbody tr th:only-of-type {\n",
       "        vertical-align: middle;\n",
       "    }\n",
       "\n",
       "    .dataframe tbody tr th {\n",
       "        vertical-align: top;\n",
       "    }\n",
       "\n",
       "    .dataframe thead th {\n",
       "        text-align: right;\n",
       "    }\n",
       "</style>\n",
       "<table border=\"1\" class=\"dataframe\">\n",
       "  <thead>\n",
       "    <tr style=\"text-align: right;\">\n",
       "      <th></th>\n",
       "      <th>Space</th>\n",
       "      <th>Time</th>\n",
       "    </tr>\n",
       "    <tr>\n",
       "      <th>Input size</th>\n",
       "      <th></th>\n",
       "      <th></th>\n",
       "    </tr>\n",
       "  </thead>\n",
       "  <tbody>\n",
       "    <tr>\n",
       "      <th>20</th>\n",
       "      <td>445.187500</td>\n",
       "      <td>0.614236</td>\n",
       "    </tr>\n",
       "    <tr>\n",
       "      <th>40</th>\n",
       "      <td>445.218750</td>\n",
       "      <td>0.594085</td>\n",
       "    </tr>\n",
       "    <tr>\n",
       "      <th>60</th>\n",
       "      <td>445.437500</td>\n",
       "      <td>0.600756</td>\n",
       "    </tr>\n",
       "    <tr>\n",
       "      <th>80</th>\n",
       "      <td>445.546875</td>\n",
       "      <td>0.601893</td>\n",
       "    </tr>\n",
       "    <tr>\n",
       "      <th>100</th>\n",
       "      <td>445.640625</td>\n",
       "      <td>0.611381</td>\n",
       "    </tr>\n",
       "    <tr>\n",
       "      <th>120</th>\n",
       "      <td>446.093750</td>\n",
       "      <td>0.705962</td>\n",
       "    </tr>\n",
       "    <tr>\n",
       "      <th>140</th>\n",
       "      <td>446.343750</td>\n",
       "      <td>0.657288</td>\n",
       "    </tr>\n",
       "    <tr>\n",
       "      <th>160</th>\n",
       "      <td>446.375000</td>\n",
       "      <td>0.670021</td>\n",
       "    </tr>\n",
       "    <tr>\n",
       "      <th>180</th>\n",
       "      <td>446.390625</td>\n",
       "      <td>0.678678</td>\n",
       "    </tr>\n",
       "    <tr>\n",
       "      <th>200</th>\n",
       "      <td>447.046875</td>\n",
       "      <td>0.673917</td>\n",
       "    </tr>\n",
       "  </tbody>\n",
       "</table>\n",
       "</div>"
      ],
      "text/plain": [
       "                 Space      Time\n",
       "Input size                      \n",
       "20          445.187500  0.614236\n",
       "40          445.218750  0.594085\n",
       "60          445.437500  0.600756\n",
       "80          445.546875  0.601893\n",
       "100         445.640625  0.611381\n",
       "120         446.093750  0.705962\n",
       "140         446.343750  0.657288\n",
       "160         446.375000  0.670021\n",
       "180         446.390625  0.678678\n",
       "200         447.046875  0.673917"
      ]
     },
     "execution_count": 43,
     "metadata": {},
     "output_type": "execute_result"
    }
   ],
   "source": [
    "existing_df"
   ]
  },
  {
   "cell_type": "markdown",
   "metadata": {},
   "source": [
    "Compute difference via paired t-test"
   ]
  },
  {
   "cell_type": "code",
   "execution_count": 44,
   "metadata": {},
   "outputs": [
    {
     "data": {
      "text/plain": [
       "TtestResult(statistic=17.752741048517994, pvalue=2.59087916630951e-08, df=9)"
      ]
     },
     "execution_count": 44,
     "metadata": {},
     "output_type": "execute_result"
    }
   ],
   "source": [
    "space_ttest = stats.ttest_rel(developed_df[\"Space\"], existing_df[\"Space\"])\n",
    "\n",
    "space_ttest"
   ]
  },
  {
   "cell_type": "code",
   "execution_count": 45,
   "metadata": {},
   "outputs": [
    {
     "data": {
      "text/plain": [
       "TtestResult(statistic=5.744451881989359, pvalue=0.00027823485295741545, df=9)"
      ]
     },
     "execution_count": 45,
     "metadata": {},
     "output_type": "execute_result"
    }
   ],
   "source": [
    "time_ttest = stats.ttest_rel(developed_df[\"Time\"], existing_df[\"Time\"])\n",
    "\n",
    "time_ttest"
   ]
  },
  {
   "cell_type": "markdown",
   "metadata": {},
   "source": [
    "Make result uniform"
   ]
  },
  {
   "cell_type": "code",
   "execution_count": 46,
   "metadata": {},
   "outputs": [
    {
     "data": {
      "text/html": [
       "<div>\n",
       "<style scoped>\n",
       "    .dataframe tbody tr th:only-of-type {\n",
       "        vertical-align: middle;\n",
       "    }\n",
       "\n",
       "    .dataframe tbody tr th {\n",
       "        vertical-align: top;\n",
       "    }\n",
       "\n",
       "    .dataframe thead th {\n",
       "        text-align: right;\n",
       "    }\n",
       "</style>\n",
       "<table border=\"1\" class=\"dataframe\">\n",
       "  <thead>\n",
       "    <tr style=\"text-align: right;\">\n",
       "      <th></th>\n",
       "      <th>Space</th>\n",
       "      <th>Time</th>\n",
       "    </tr>\n",
       "    <tr>\n",
       "      <th>Metrics</th>\n",
       "      <th></th>\n",
       "      <th></th>\n",
       "    </tr>\n",
       "  </thead>\n",
       "  <tbody>\n",
       "    <tr>\n",
       "      <th>Statistic</th>\n",
       "      <td>1.775274e+01</td>\n",
       "      <td>5.744452</td>\n",
       "    </tr>\n",
       "    <tr>\n",
       "      <th>p-value</th>\n",
       "      <td>2.590879e-08</td>\n",
       "      <td>0.000278</td>\n",
       "    </tr>\n",
       "  </tbody>\n",
       "</table>\n",
       "</div>"
      ],
      "text/plain": [
       "                  Space      Time\n",
       "Metrics                          \n",
       "Statistic  1.775274e+01  5.744452\n",
       "p-value    2.590879e-08  0.000278"
      ]
     },
     "execution_count": 46,
     "metadata": {},
     "output_type": "execute_result"
    }
   ],
   "source": [
    "result_df = pd.DataFrame({\n",
    "    \"Metrics\": [\"Statistic\", \"p-value\"],\n",
    "    \"Space\": [space_ttest[0], space_ttest[1]],\n",
    "    \"Time\": [time_ttest[0], time_ttest[1]]\n",
    "})\n",
    "\n",
    "result_df = result_df.set_index(\"Metrics\")\n",
    "result_df"
   ]
  },
  {
   "cell_type": "markdown",
   "metadata": {},
   "source": [
    "Save result to CSV"
   ]
  },
  {
   "cell_type": "code",
   "execution_count": 47,
   "metadata": {},
   "outputs": [
    {
     "name": "stdout",
     "output_type": "stream",
     "text": [
      "Done!\n"
     ]
    }
   ],
   "source": [
    "result_df.to_csv(\"t-test.csv\")\n",
    "print(\"Done!\")"
   ]
  },
  {
   "cell_type": "markdown",
   "metadata": {},
   "source": [
    "## **BREAKDOWN**\n",
    "\n",
    "Trying to achieve the same result through steps:"
   ]
  },
  {
   "cell_type": "markdown",
   "metadata": {},
   "source": [
    "Mean differences:"
   ]
  },
  {
   "cell_type": "code",
   "execution_count": 48,
   "metadata": {},
   "outputs": [],
   "source": [
    "def get_diff_mean(df_a: pd.DataFrame, df_b: pd.DataFrame, column: str):\n",
    "    \"\"\"\n",
    "    Subtracts table `df_b` with `column` name from table `df_a` with column name `column`,\n",
    "    and takes the average of the resulting column.\n",
    "\n",
    "    This function will return a Series/array/list of differences in the same index\n",
    "    of the two columns passed accessed with the `column` string argument in the `df_a`\n",
    "    and `df_b` DataFrames.\n",
    "    \"\"\"\n",
    "    return df_a[column].subtract(df_b[column]).mean()"
   ]
  },
  {
   "cell_type": "code",
   "execution_count": 49,
   "metadata": {},
   "outputs": [],
   "source": [
    "space_diff_mean = get_diff_mean(developed_df, existing_df, \"Space\")\n",
    "time_diff_mean = get_diff_mean(developed_df, existing_df, \"Time\")"
   ]
  },
  {
   "cell_type": "markdown",
   "metadata": {},
   "source": [
    "Standard deviations of each:"
   ]
  },
  {
   "cell_type": "code",
   "execution_count": 50,
   "metadata": {},
   "outputs": [],
   "source": [
    "def get_sd(df_a: pd.DataFrame, df_b: pd.DataFrame, column: str, mean):\n",
    "    \"\"\"\n",
    "    Gets standard deviation of the differences from `df_a` and `df_b` with column name\n",
    "    `column`, using the mean difference `mean`.\n",
    "    \"\"\"\n",
    "    numerator = 0\n",
    "    denominator = len(df_a[column]) - 1\n",
    "\n",
    "    series = df_a[column].subtract(df_b[column])\n",
    "\n",
    "    for value in series:\n",
    "        numerator += (value - mean) ** 2\n",
    "    \n",
    "    return math.sqrt(numerator / denominator)"
   ]
  },
  {
   "cell_type": "code",
   "execution_count": 51,
   "metadata": {},
   "outputs": [],
   "source": [
    "space_sd = get_sd(developed_df, existing_df, \"Space\", space_diff_mean)\n",
    "time_sd = get_sd(developed_df, existing_df, \"Time\", time_diff_mean)"
   ]
  },
  {
   "cell_type": "markdown",
   "metadata": {},
   "source": [
    "Finally, for t-test output:"
   ]
  },
  {
   "cell_type": "code",
   "execution_count": 52,
   "metadata": {},
   "outputs": [
    {
     "data": {
      "text/plain": [
       "17.752741048517994"
      ]
     },
     "execution_count": 52,
     "metadata": {},
     "output_type": "execute_result"
    }
   ],
   "source": [
    "space_ttest = space_diff_mean / (space_sd / math.sqrt(len(developed_df[\"Space\"])))\n",
    "space_ttest"
   ]
  },
  {
   "cell_type": "code",
   "execution_count": 53,
   "metadata": {},
   "outputs": [
    {
     "data": {
      "text/plain": [
       "5.744451881989359"
      ]
     },
     "execution_count": 53,
     "metadata": {},
     "output_type": "execute_result"
    }
   ],
   "source": [
    "time_ttest = time_diff_mean / (time_sd / math.sqrt(len(existing_df[\"Time\"])))\n",
    "time_ttest"
   ]
  },
  {
   "cell_type": "markdown",
   "metadata": {},
   "source": [
    "For p-value:"
   ]
  },
  {
   "cell_type": "code",
   "execution_count": 54,
   "metadata": {},
   "outputs": [
    {
     "data": {
      "text/plain": [
       "(False, False)"
      ]
     },
     "execution_count": 54,
     "metadata": {},
     "output_type": "execute_result"
    }
   ],
   "source": [
    "# For one-tailed paired t-test, alpha level 0.05\n",
    "# We're doing one-tailed since we are only concerned with significant changes in the positive direction.\n",
    "# Source: https://www.sjsu.edu/faculty/gerstman/StatPrimer/t-table.pdf\n",
    "critical_value = -1.833\n",
    "\n",
    "space_is_significant = space_ttest < critical_value\n",
    "time_is_significant = time_ttest < critical_value\n",
    "\n",
    "space_is_significant, time_is_significant"
   ]
  },
  {
   "cell_type": "markdown",
   "metadata": {},
   "source": [
    "Compile all values for uniformity:"
   ]
  },
  {
   "cell_type": "code",
   "execution_count": 55,
   "metadata": {},
   "outputs": [
    {
     "name": "stdout",
     "output_type": "stream",
     "text": [
      "Done!\n"
     ]
    }
   ],
   "source": [
    "variables_df = pd.DataFrame({\n",
    "    \"Variable\": [\"T-statistic\", \"n\", \"d\", \"Critical value\", \"Sd\"],\n",
    "    \"Space\": [space_ttest, len(developed_df[\"Space\"]), space_diff_mean, critical_value, space_sd],\n",
    "    \"Time\": [time_ttest, len(developed_df[\"Time\"]), time_diff_mean, critical_value, time_sd],\n",
    "})\n",
    "\n",
    "if not os.path.isdir(\"manual\"):\n",
    "    os.mkdir(\"manual\")\n",
    "\n",
    "variables_df = variables_df.set_index(\"Variable\")\n",
    "variables_df.to_csv(\"manual/variables.csv\")\n",
    "print(\"Done!\")"
   ]
  },
  {
   "cell_type": "code",
   "execution_count": 56,
   "metadata": {},
   "outputs": [
    {
     "name": "stdout",
     "output_type": "stream",
     "text": [
      "Done!\n"
     ]
    }
   ],
   "source": [
    "ttest_df = pd.DataFrame({\n",
    "    \"Metric\": [\"Space\", \"Time\"],\n",
    "    \"T-statistic\": [space_ttest, time_ttest],\n",
    "    \"Critical value\": [ critical_value for _ in range(2) ],\n",
    "    \"Is significant\": [space_is_significant, time_is_significant]\n",
    "})\n",
    "\n",
    "ttest_df = ttest_df.set_index(\"Metric\")\n",
    "ttest_df.to_csv(\"manual/t-test.csv\")\n",
    "print(\"Done!\")"
   ]
  }
 ],
 "metadata": {
  "kernelspec": {
   "display_name": "venv",
   "language": "python",
   "name": "python3"
  },
  "language_info": {
   "codemirror_mode": {
    "name": "ipython",
    "version": 3
   },
   "file_extension": ".py",
   "mimetype": "text/x-python",
   "name": "python",
   "nbconvert_exporter": "python",
   "pygments_lexer": "ipython3",
   "version": "3.11.6"
  }
 },
 "nbformat": 4,
 "nbformat_minor": 2
}
